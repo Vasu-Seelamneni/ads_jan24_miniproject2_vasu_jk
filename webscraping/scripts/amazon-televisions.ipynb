{
 "cells": [
  {
   "cell_type": "code",
   "execution_count": 5,
   "id": "d38408c4",
   "metadata": {},
   "outputs": [],
   "source": [
    "# !pip install selenium"
   ]
  },
  {
   "cell_type": "code",
   "execution_count": 6,
   "id": "745013c6",
   "metadata": {},
   "outputs": [],
   "source": [
    "# !pip install --upgrade pip"
   ]
  },
  {
   "cell_type": "code",
   "execution_count": 7,
   "id": "01a165a9",
   "metadata": {},
   "outputs": [],
   "source": [
    "# !pip install webdriver_manager"
   ]
  },
  {
   "cell_type": "code",
   "execution_count": 8,
   "id": "cb89771e",
   "metadata": {},
   "outputs": [
    {
     "name": "stdout",
     "output_type": "stream",
     "text": [
      "Requirement already satisfied: bs4 in c:\\users\\vasu_seelamneni\\onedrive - dell technologies\\desktop\\vasu\\learnings\\data science\\dell\\miniproject-ads\\ads_jan24_miniproject2_vasu_jk\\.miniproj\\lib\\site-packages (0.0.2)\n",
      "Requirement already satisfied: beautifulsoup4 in c:\\users\\vasu_seelamneni\\onedrive - dell technologies\\desktop\\vasu\\learnings\\data science\\dell\\miniproject-ads\\ads_jan24_miniproject2_vasu_jk\\.miniproj\\lib\\site-packages (from bs4) (4.12.3)\n",
      "Requirement already satisfied: soupsieve>1.2 in c:\\users\\vasu_seelamneni\\onedrive - dell technologies\\desktop\\vasu\\learnings\\data science\\dell\\miniproject-ads\\ads_jan24_miniproject2_vasu_jk\\.miniproj\\lib\\site-packages (from beautifulsoup4->bs4) (2.5)\n"
     ]
    }
   ],
   "source": [
    "!pip3 install bs4"
   ]
  },
  {
   "cell_type": "code",
   "execution_count": 10,
   "id": "c9827516-9db2-4eaa-9795-3b106a8d81c3",
   "metadata": {},
   "outputs": [],
   "source": [
    "# Import all required libraries\n",
    "from selenium import webdriver\n",
    "from selenium.webdriver.chrome.service import Service\n",
    "from selenium.webdriver.common.by import By\n",
    "from bs4 import BeautifulSoup\n",
    "import time\n",
    "import pandas as pd\n",
    "import numpy as np\n",
    "import requests\n",
    "import re"
   ]
  },
  {
   "cell_type": "code",
   "execution_count": 151,
   "id": "76a2cb5a-526e-4fea-a0b0-e2d634aa383b",
   "metadata": {},
   "outputs": [],
   "source": [
    "# Create an instance of chrome browser using the chrome driver\n",
    "service = Service(executable_path='chromedriver.exe')\n",
    "driver = webdriver.Chrome(service=service)\n",
    "\n",
    "# Interact with ebay website\n",
    "driver.get('https://www.amazon.in/')\n",
    "time.sleep(2)"
   ]
  },
  {
   "cell_type": "code",
   "execution_count": null,
   "id": "c2e2b4c2-5e29-4891-8b10-519cec1e8554",
   "metadata": {},
   "outputs": [],
   "source": [
    "#Navigate to Televisions page\n",
    "element_elc = driver.find_element(By.XPATH, \"//a[text()=' Electronics ']\")\n",
    "element_elc.click()\n",
    "time.sleep(3)\n",
    "\n",
    "element_elc = driver.find_element(By.XPATH, \"//span[text()='Home Theater, TV & Video']\")\n",
    "element_elc.click()\n",
    "time.sleep(3)\n",
    "\n",
    "element_tel = driver.find_element(By.XPATH, \"//span[text()='Televisions']\")\n",
    "element_tel.click()\n",
    "time.sleep(3)\n"
   ]
  },
  {
   "cell_type": "code",
   "execution_count": null,
   "id": "6428f91f-aa1a-488f-8821-7be2e11c221e",
   "metadata": {},
   "outputs": [],
   "source": [
    "#apply filter to select top brands\n",
    "element_tv_size = driver.find_element(By.XPATH, \"//span[@class='a-size-base a-color-base' and text()='Top Brands']\")\n",
    "element_tv_size.click()\n",
    "time.sleep(3)\n"
   ]
  },
  {
   "cell_type": "code",
   "execution_count": 54,
   "id": "d8baa485",
   "metadata": {},
   "outputs": [],
   "source": [
    "# load page data and return prodtuct details\n",
    "def get_product_details():\n",
    "    soup = BeautifulSoup(driver.page_source,'html.parser')\n",
    "    soup_list = soup.find_all(class_ = \"s-main-slot s-result-list s-search-results sg-row\")\n",
    "    \n",
    "    # Create a BeautifulSoup object from the returned resutlset\n",
    "    soup = BeautifulSoup(str(soup_list), 'html.parser')\n",
    "    # Find all television items\n",
    "    return soup.find_all('div', class_='s-result-item')"
   ]
  },
  {
   "cell_type": "code",
   "execution_count": 156,
   "id": "dbe5bb4b-36ec-4ede-999f-39efd1c6ebd4",
   "metadata": {},
   "outputs": [],
   "source": [
    "#Store the results obtained into a Dataframe and save it as CSV file. Two coloumns, product_name and product_price.\n",
    "# Title column : Product Name, Price\n",
    "try:\n",
    "    products = []\n",
    "    prices = []\n",
    "\n",
    "    items = get_product_details()\n",
    "    # Check if there is a next page and collect all product details into items list\n",
    "    xpath_nextpage = \"//a[text() = 'Next']\"\n",
    "    while(len(driver.find_elements(By.XPATH, xpath_nextpage)) > 0):\n",
    "        element_nextpage = driver.find_elements(By.XPATH, xpath_nextpage)\n",
    "        driver.execute_script(\"arguments[0].scrollIntoView();\",element_nextpage[0])\n",
    "        element_nextpage[0].click()\n",
    "        time.sleep(3)\n",
    "        items.extend(get_product_details())\n",
    "        \n",
    "    # print(items)\n",
    "    # Iterate over the product list and extract the name, and price\n",
    "    for item in items:\n",
    "        name = item.find('span', class_='a-size-base-plus a-color-base a-text-normal')\n",
    "        price = item.find('span', class_='a-price-whole')\n",
    "        if(name != None and price != None):\n",
    "            name = name.text.strip()\n",
    "            price = 'INR ' + price.text.strip()\n",
    "            products.append(name)\n",
    "            prices.append(price)\n",
    "            \n",
    "    data = {'Product Name':products, 'Price':prices}\n",
    "    df = pd.DataFrame(data)\n",
    "    #df.head()\n",
    "    # Save DataFrame to a CSV file\n",
    "    df.to_csv('amazon_television_data.csv', index=False)\n",
    "    driver.close()\n",
    "    \n",
    "except Exception as e:\n",
    "    print('An error occurred during scraping:', str(e))"
   ]
  },
  {
   "cell_type": "code",
   "execution_count": 157,
   "id": "bc105744",
   "metadata": {},
   "outputs": [
    {
     "name": "stdout",
     "output_type": "stream",
     "text": [
      "179\n",
      "179\n"
     ]
    }
   ],
   "source": [
    "#Clean up the raw data\n",
    "print(df.__len__())\n",
    "df = df.drop_duplicates()\n",
    "print(df.__len__())"
   ]
  },
  {
   "cell_type": "code",
   "execution_count": 158,
   "id": "512670ff",
   "metadata": {},
   "outputs": [
    {
     "data": {
      "text/html": [
       "<div>\n",
       "<style scoped>\n",
       "    .dataframe tbody tr th:only-of-type {\n",
       "        vertical-align: middle;\n",
       "    }\n",
       "\n",
       "    .dataframe tbody tr th {\n",
       "        vertical-align: top;\n",
       "    }\n",
       "\n",
       "    .dataframe thead th {\n",
       "        text-align: right;\n",
       "    }\n",
       "</style>\n",
       "<table border=\"1\" class=\"dataframe\">\n",
       "  <thead>\n",
       "    <tr style=\"text-align: right;\">\n",
       "      <th></th>\n",
       "      <th>Product Name</th>\n",
       "      <th>Price</th>\n",
       "    </tr>\n",
       "  </thead>\n",
       "  <tbody>\n",
       "    <tr>\n",
       "      <th>0</th>\n",
       "      <td>Redmi 80 cm (32 inches) F Series HD Ready Smar...</td>\n",
       "      <td>INR 12,999</td>\n",
       "    </tr>\n",
       "    <tr>\n",
       "      <th>1</th>\n",
       "      <td>MI 80 cm (32 inches) A Series HD Ready Smart G...</td>\n",
       "      <td>INR 12,499</td>\n",
       "    </tr>\n",
       "    <tr>\n",
       "      <th>2</th>\n",
       "      <td>VW 80 cm (32 inches) Frameless Series HD Ready...</td>\n",
       "      <td>INR 7,499</td>\n",
       "    </tr>\n",
       "    <tr>\n",
       "      <th>3</th>\n",
       "      <td>VW 80 cm (32 inches) Frameless Series HD Ready...</td>\n",
       "      <td>INR 6,799</td>\n",
       "    </tr>\n",
       "    <tr>\n",
       "      <th>4</th>\n",
       "      <td>Redmi 108 cm (43 inches) 4K Ultra HD Android S...</td>\n",
       "      <td>INR 22,999</td>\n",
       "    </tr>\n",
       "  </tbody>\n",
       "</table>\n",
       "</div>"
      ],
      "text/plain": [
       "                                        Product Name       Price\n",
       "0  Redmi 80 cm (32 inches) F Series HD Ready Smar...  INR 12,999\n",
       "1  MI 80 cm (32 inches) A Series HD Ready Smart G...  INR 12,499\n",
       "2  VW 80 cm (32 inches) Frameless Series HD Ready...   INR 7,499\n",
       "3  VW 80 cm (32 inches) Frameless Series HD Ready...   INR 6,799\n",
       "4  Redmi 108 cm (43 inches) 4K Ultra HD Android S...  INR 22,999"
      ]
     },
     "execution_count": 158,
     "metadata": {},
     "output_type": "execute_result"
    }
   ],
   "source": [
    "df.head()"
   ]
  },
  {
   "cell_type": "code",
   "execution_count": 159,
   "id": "69acdd22",
   "metadata": {},
   "outputs": [],
   "source": [
    "# Define the regular expression pattern for the brands\n",
    "pattern = r'(LG|Samsung|Sony|TCL|Hisense|Panasonic|Sharp|Philips|Haier|Toshiba|MI|Redmi|VW|iFFALCON|Acer|OnePlus|Vu|Xiaomi|Blaupunkt|Kodak|Croma|Westinghouse|Onida|Dyanora|Sansui)'\n",
    "\n",
    "# Extract the brand from the 'Product Name' column and assign it to the 'Brand' column\n",
    "df['Brand'] = df['Product Name'].str.extract(pattern, flags=re.IGNORECASE, expand=False)\n",
    "\n",
    "# Convert the 'Brand' column to uppercase\n",
    "df['Brand'] = df['Brand'].str.upper()"
   ]
  },
  {
   "cell_type": "code",
   "execution_count": 161,
   "id": "bced398f",
   "metadata": {},
   "outputs": [],
   "source": [
    "# df.head()"
   ]
  },
  {
   "cell_type": "code",
   "execution_count": 218,
   "id": "d74c4027-3946-46d1-a85b-b5f50c8330f0",
   "metadata": {},
   "outputs": [],
   "source": [
    "# Convert the column to string type\n",
    "df['Product Name'] = df['Product Name'].astype(str)\n",
    "\n",
    "# Define the regular expression pattern for the size\n",
    "pattern = r\"(\\d+)\\s*(inch|inches|Inch)\"\n",
    "matches = df['Product Name'].apply(lambda x: re.findall(pattern, x))\n",
    "\n",
    "# Extract the matches and assign to the 'Size' column\n",
    "df['Size'] = [', '.join(match[0]) if match else None for match in matches]\n",
    "df['Size'] = df['Size'].replace(', inch|, Inch', '', regex=True)\n",
    "df.drop(df[df['Size'].isnull()].index, inplace=True)\n",
    " \n",
    "# Sorting by column 'Size'\n",
    "df.sort_values(by=['Size'], inplace=True)\n"
   ]
  },
  {
   "cell_type": "code",
   "execution_count": 176,
   "id": "dc0d279d-0082-4fb3-976c-d5cbb14bbfe7",
   "metadata": {},
   "outputs": [],
   "source": [
    "# df.head()"
   ]
  },
  {
   "cell_type": "code",
   "execution_count": 219,
   "id": "9ab0cd01-d7b1-4823-874a-af25f1440b1a",
   "metadata": {},
   "outputs": [],
   "source": [
    "# Define the regular expression pattern for the display\n",
    "pattern = r'(LED|QLED|OLED)'\n",
    "\n",
    "# Extract the brand from the 'Product Name' column and assign it to the 'Brand' column\n",
    "df['Display'] = df['Product Name'].str.extract(pattern, flags=re.IGNORECASE, expand=False)\n",
    "\n",
    "# Convert the 'Brand' column to uppercase\n",
    "df['Display'] = df['Display'].str.upper()\n",
    "df['Display'].fillna('LED', inplace=True)"
   ]
  },
  {
   "cell_type": "code",
   "execution_count": 167,
   "id": "31275d6a-3cf9-41e5-8338-fce4c75f5678",
   "metadata": {},
   "outputs": [],
   "source": [
    "# df.head()"
   ]
  },
  {
   "cell_type": "code",
   "execution_count": 220,
   "id": "b67a7832",
   "metadata": {},
   "outputs": [],
   "source": [
    "df.to_csv('amazon_television_data.csv', index=False)"
   ]
  },
  {
   "cell_type": "code",
   "execution_count": 221,
   "id": "15126ddb-d6cf-4896-8541-7955afb982ff",
   "metadata": {},
   "outputs": [
    {
     "name": "stdout",
     "output_type": "stream",
     "text": [
      "<class 'pandas.core.frame.DataFrame'>\n",
      "Index: 177 entries, 54 to 159\n",
      "Data columns (total 5 columns):\n",
      " #   Column        Non-Null Count  Dtype \n",
      "---  ------        --------------  ----- \n",
      " 0   Product Name  177 non-null    object\n",
      " 1   Price         177 non-null    object\n",
      " 2   Brand         177 non-null    object\n",
      " 3   Size          177 non-null    object\n",
      " 4   Display       177 non-null    object\n",
      "dtypes: object(5)\n",
      "memory usage: 8.3+ KB\n"
     ]
    }
   ],
   "source": [
    "df.info()"
   ]
  },
  {
   "cell_type": "code",
   "execution_count": 222,
   "id": "7d8b6136-0cc3-4592-82d4-54b99471c85b",
   "metadata": {},
   "outputs": [],
   "source": [
    "gk = df.groupby('Size')"
   ]
  },
  {
   "cell_type": "code",
   "execution_count": 225,
   "id": "63077f06-6a4d-433c-9ace-f3f839d2df61",
   "metadata": {},
   "outputs": [
    {
     "data": {
      "text/html": [
       "<div>\n",
       "<style scoped>\n",
       "    .dataframe tbody tr th:only-of-type {\n",
       "        vertical-align: middle;\n",
       "    }\n",
       "\n",
       "    .dataframe tbody tr th {\n",
       "        vertical-align: top;\n",
       "    }\n",
       "\n",
       "    .dataframe thead th {\n",
       "        text-align: right;\n",
       "    }\n",
       "</style>\n",
       "<table border=\"1\" class=\"dataframe\">\n",
       "  <thead>\n",
       "    <tr style=\"text-align: right;\">\n",
       "      <th></th>\n",
       "      <th>Product Name</th>\n",
       "      <th>Price</th>\n",
       "      <th>Brand</th>\n",
       "      <th>Display</th>\n",
       "    </tr>\n",
       "    <tr>\n",
       "      <th>Size</th>\n",
       "      <th></th>\n",
       "      <th></th>\n",
       "      <th></th>\n",
       "      <th></th>\n",
       "    </tr>\n",
       "  </thead>\n",
       "  <tbody>\n",
       "    <tr>\n",
       "      <th>24</th>\n",
       "      <td>VW 60 cm (24 inches) Premium Series HD Ready L...</td>\n",
       "      <td>INR 5,699</td>\n",
       "      <td>VW</td>\n",
       "      <td>LED</td>\n",
       "    </tr>\n",
       "    <tr>\n",
       "      <th>32</th>\n",
       "      <td>TCL 80.04 cm (32 inches) Bezel-Less S Series H...</td>\n",
       "      <td>INR 12,490</td>\n",
       "      <td>TCL</td>\n",
       "      <td>LED</td>\n",
       "    </tr>\n",
       "    <tr>\n",
       "      <th>40</th>\n",
       "      <td>VW 101 cm (40 inches) Linux Series Frameless H...</td>\n",
       "      <td>INR 12,499</td>\n",
       "      <td>VW</td>\n",
       "      <td>LED</td>\n",
       "    </tr>\n",
       "    <tr>\n",
       "      <th>42</th>\n",
       "      <td>Kodak 106 cm (42 inches) Full HD Certified And...</td>\n",
       "      <td>INR 15,999</td>\n",
       "      <td>KODAK</td>\n",
       "      <td>LED</td>\n",
       "    </tr>\n",
       "    <tr>\n",
       "      <th>43</th>\n",
       "      <td>Panasonic 108 cm (43 inches) 4K Ultra HD Smart...</td>\n",
       "      <td>INR 31,990</td>\n",
       "      <td>PANASONIC</td>\n",
       "      <td>LED</td>\n",
       "    </tr>\n",
       "    <tr>\n",
       "      <th>48</th>\n",
       "      <td>LG 121 cm (48 inches) 4K Ultra HD Smart OLED T...</td>\n",
       "      <td>INR 75,990</td>\n",
       "      <td>LG</td>\n",
       "      <td>OLED</td>\n",
       "    </tr>\n",
       "    <tr>\n",
       "      <th>49</th>\n",
       "      <td>Samsung 123 cm (49 Inches) 4K UHD LED TV UE49M...</td>\n",
       "      <td>INR 1,12,369</td>\n",
       "      <td>SAMSUNG</td>\n",
       "      <td>LED</td>\n",
       "    </tr>\n",
       "    <tr>\n",
       "      <th>50</th>\n",
       "      <td>Samsung 125 cm (50 inches) 4K Ultra HD Smart N...</td>\n",
       "      <td>INR 89,990</td>\n",
       "      <td>SAMSUNG</td>\n",
       "      <td>QLED</td>\n",
       "    </tr>\n",
       "    <tr>\n",
       "      <th>55</th>\n",
       "      <td>Samsung 139.7 cm (55 inches) 4K Ultra HD Smart...</td>\n",
       "      <td>INR 52,990</td>\n",
       "      <td>SAMSUNG</td>\n",
       "      <td>LED</td>\n",
       "    </tr>\n",
       "    <tr>\n",
       "      <th>58</th>\n",
       "      <td>iFFALCON 147 cm (58 inches) 4K Ultra HD Smart ...</td>\n",
       "      <td>INR 33,999</td>\n",
       "      <td>IFFALCON</td>\n",
       "      <td>LED</td>\n",
       "    </tr>\n",
       "    <tr>\n",
       "      <th>65</th>\n",
       "      <td>Samsung 163 cm (65 inches) 8K Ultra HD Smart N...</td>\n",
       "      <td>INR 2,99,990</td>\n",
       "      <td>SAMSUNG</td>\n",
       "      <td>QLED</td>\n",
       "    </tr>\n",
       "    <tr>\n",
       "      <th>75</th>\n",
       "      <td>Samsung 189 cm (75 inches) 4K Ultra HD Smart N...</td>\n",
       "      <td>INR 3,34,990</td>\n",
       "      <td>SAMSUNG</td>\n",
       "      <td>QLED</td>\n",
       "    </tr>\n",
       "    <tr>\n",
       "      <th>77</th>\n",
       "      <td>Sony Bravia 195 cm (77 inches) XR series 4K Ul...</td>\n",
       "      <td>INR 5,22,490</td>\n",
       "      <td>SONY</td>\n",
       "      <td>OLED</td>\n",
       "    </tr>\n",
       "    <tr>\n",
       "      <th>85</th>\n",
       "      <td>Vu 215cm (85 inches) The Masterpiece 4K Ultra ...</td>\n",
       "      <td>INR 2,59,999</td>\n",
       "      <td>VU</td>\n",
       "      <td>QLED</td>\n",
       "    </tr>\n",
       "  </tbody>\n",
       "</table>\n",
       "</div>"
      ],
      "text/plain": [
       "                                           Product Name         Price   \n",
       "Size                                                                    \n",
       "24    VW 60 cm (24 inches) Premium Series HD Ready L...     INR 5,699  \\\n",
       "32    TCL 80.04 cm (32 inches) Bezel-Less S Series H...    INR 12,490   \n",
       "40    VW 101 cm (40 inches) Linux Series Frameless H...    INR 12,499   \n",
       "42    Kodak 106 cm (42 inches) Full HD Certified And...    INR 15,999   \n",
       "43    Panasonic 108 cm (43 inches) 4K Ultra HD Smart...    INR 31,990   \n",
       "48    LG 121 cm (48 inches) 4K Ultra HD Smart OLED T...    INR 75,990   \n",
       "49    Samsung 123 cm (49 Inches) 4K UHD LED TV UE49M...  INR 1,12,369   \n",
       "50    Samsung 125 cm (50 inches) 4K Ultra HD Smart N...    INR 89,990   \n",
       "55    Samsung 139.7 cm (55 inches) 4K Ultra HD Smart...    INR 52,990   \n",
       "58    iFFALCON 147 cm (58 inches) 4K Ultra HD Smart ...    INR 33,999   \n",
       "65    Samsung 163 cm (65 inches) 8K Ultra HD Smart N...  INR 2,99,990   \n",
       "75    Samsung 189 cm (75 inches) 4K Ultra HD Smart N...  INR 3,34,990   \n",
       "77    Sony Bravia 195 cm (77 inches) XR series 4K Ul...  INR 5,22,490   \n",
       "85    Vu 215cm (85 inches) The Masterpiece 4K Ultra ...  INR 2,59,999   \n",
       "\n",
       "          Brand Display  \n",
       "Size                     \n",
       "24           VW     LED  \n",
       "32          TCL     LED  \n",
       "40           VW     LED  \n",
       "42        KODAK     LED  \n",
       "43    PANASONIC     LED  \n",
       "48           LG    OLED  \n",
       "49      SAMSUNG     LED  \n",
       "50      SAMSUNG    QLED  \n",
       "55      SAMSUNG     LED  \n",
       "58     IFFALCON     LED  \n",
       "65      SAMSUNG    QLED  \n",
       "75      SAMSUNG    QLED  \n",
       "77         SONY    OLED  \n",
       "85           VU    QLED  "
      ]
     },
     "execution_count": 225,
     "metadata": {},
     "output_type": "execute_result"
    }
   ],
   "source": [
    "gk.first()"
   ]
  },
  {
   "cell_type": "code",
   "execution_count": null,
   "id": "a2303d2c-41dc-4c17-8c08-e86e41d8634b",
   "metadata": {},
   "outputs": [],
   "source": []
  }
 ],
 "metadata": {
  "kernelspec": {
   "display_name": "Python 3 (ipykernel)",
   "language": "python",
   "name": "python3"
  },
  "language_info": {
   "codemirror_mode": {
    "name": "ipython",
    "version": 3
   },
   "file_extension": ".py",
   "mimetype": "text/x-python",
   "name": "python",
   "nbconvert_exporter": "python",
   "pygments_lexer": "ipython3",
   "version": "3.10.5"
  }
 },
 "nbformat": 4,
 "nbformat_minor": 5
}
