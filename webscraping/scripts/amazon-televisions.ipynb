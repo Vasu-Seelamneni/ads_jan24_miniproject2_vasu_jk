{
 "cells": [
  {
   "cell_type": "code",
   "execution_count": 4,
   "id": "d38408c4",
   "metadata": {},
   "outputs": [],
   "source": [
    "# !pip install selenium"
   ]
  },
  {
   "cell_type": "code",
   "execution_count": 5,
   "id": "745013c6",
   "metadata": {},
   "outputs": [],
   "source": [
    "# !pip install --upgrade pip"
   ]
  },
  {
   "cell_type": "code",
   "execution_count": 6,
   "id": "01a165a9",
   "metadata": {},
   "outputs": [],
   "source": [
    "# !pip install webdriver_manager"
   ]
  },
  {
   "cell_type": "code",
   "execution_count": 3,
   "id": "cb89771e",
   "metadata": {},
   "outputs": [],
   "source": [
    "# !pip3 install bs4"
   ]
  },
  {
   "cell_type": "code",
   "execution_count": 7,
   "id": "c9827516-9db2-4eaa-9795-3b106a8d81c3",
   "metadata": {},
   "outputs": [],
   "source": [
    "# Import all required libraries\n",
    "from selenium import webdriver\n",
    "from selenium.webdriver.chrome.service import Service\n",
    "from selenium.webdriver.common.by import By\n",
    "from bs4 import BeautifulSoup\n",
    "import time\n",
    "import pandas as pd\n",
    "import numpy as np\n",
    "import requests\n",
    "import re\n",
    "import matplotlib as pl\n",
    "import matplotlib.pyplot as plt"
   ]
  },
  {
   "cell_type": "code",
   "execution_count": 10,
   "id": "76a2cb5a-526e-4fea-a0b0-e2d634aa383b",
   "metadata": {},
   "outputs": [],
   "source": [
    "# Create an instance of chrome browser using the chrome driver\n",
    "service = Service(executable_path='chromedriver.exe')\n",
    "driver = webdriver.Chrome(service=service)\n",
    "\n",
    "# Maximize the Chrome window\n",
    "driver.maximize_window()\n",
    "\n",
    "# Interact with ebay website\n",
    "driver.get('https://www.amazon.in/')\n",
    "time.sleep(2)"
   ]
  },
  {
   "cell_type": "code",
   "execution_count": 11,
   "id": "c2e2b4c2-5e29-4891-8b10-519cec1e8554",
   "metadata": {},
   "outputs": [],
   "source": [
    "#Navigate to Televisions page\n",
    "element_elc = driver.find_element(By.XPATH, \"//a[text()=' Electronics ']\")\n",
    "element_elc.click()\n",
    "time.sleep(3)\n",
    "\n",
    "element_elc = driver.find_element(By.XPATH, \"//span[text()='Home Theater, TV & Video']\")\n",
    "element_elc.click()\n",
    "time.sleep(3)\n",
    "\n",
    "element_tel = driver.find_element(By.XPATH, \"//span[text()='Televisions']\")\n",
    "element_tel.click()\n",
    "time.sleep(3)\n"
   ]
  },
  {
   "cell_type": "code",
   "execution_count": 12,
   "id": "6428f91f-aa1a-488f-8821-7be2e11c221e",
   "metadata": {},
   "outputs": [],
   "source": [
    "#apply filter to select top brands\n",
    "element_tv_size = driver.find_element(By.XPATH, \"//span[@class='a-size-base a-color-base' and text()='Top Brands']\")\n",
    "element_tv_size.click()\n",
    "time.sleep(3)\n"
   ]
  },
  {
   "cell_type": "code",
   "execution_count": 13,
   "id": "d8baa485",
   "metadata": {},
   "outputs": [],
   "source": [
    "# load page data and return prodtuct details\n",
    "def get_product_details():\n",
    "    soup = BeautifulSoup(driver.page_source,'html.parser')\n",
    "    soup_list = soup.find_all(class_ = \"s-main-slot s-result-list s-search-results sg-row\")\n",
    "    \n",
    "    # Create a BeautifulSoup object from the returned resutlset\n",
    "    soup = BeautifulSoup(str(soup_list), 'html.parser')\n",
    "    # Find all television items\n",
    "    return soup.find_all('div', class_='s-result-item')"
   ]
  },
  {
   "cell_type": "code",
   "execution_count": 14,
   "id": "dbe5bb4b-36ec-4ede-999f-39efd1c6ebd4",
   "metadata": {},
   "outputs": [],
   "source": [
    "#Store the results obtained into a Dataframe and save it as CSV file. Two coloumns, product_name and product_price.\n",
    "# Title column : Product Name, Price\n",
    "try:\n",
    "    products = []\n",
    "    prices = []\n",
    "\n",
    "    items = get_product_details()\n",
    "    # Check if there is a next page and collect all product details into items list\n",
    "    xpath_nextpage = \"//a[text() = 'Next']\"\n",
    "    while(len(driver.find_elements(By.XPATH, xpath_nextpage)) > 0):\n",
    "        element_nextpage = driver.find_elements(By.XPATH, xpath_nextpage)\n",
    "        driver.execute_script(\"arguments[0].scrollIntoView();\",element_nextpage[0])\n",
    "        element_nextpage[0].click()\n",
    "        time.sleep(3)\n",
    "        items.extend(get_product_details())\n",
    "        \n",
    "    # print(items)\n",
    "    # Iterate over the product list and extract the name, and price\n",
    "    for item in items:\n",
    "        name = item.find('span', class_='a-size-base-plus a-color-base a-text-normal')\n",
    "        price = item.find('span', class_='a-price-whole')\n",
    "        if(name != None and price != None):\n",
    "            name = name.text.strip()\n",
    "            price = 'INR ' + price.text.strip()\n",
    "            products.append(name)\n",
    "            prices.append(price)\n",
    "            \n",
    "    data = {'Product Name':products, 'Price':prices}\n",
    "    df = pd.DataFrame(data)\n",
    "    driver.close()\n",
    "    \n",
    "except Exception as e:\n",
    "    print('An error occurred during scraping:', str(e))"
   ]
  },
  {
   "cell_type": "code",
   "execution_count": 15,
   "id": "bc105744",
   "metadata": {},
   "outputs": [
    {
     "name": "stdout",
     "output_type": "stream",
     "text": [
      "170\n"
     ]
    }
   ],
   "source": [
    "#Clean up the raw data\n",
    "df = df.drop_duplicates()\n",
    "print(df.__len__())"
   ]
  },
  {
   "cell_type": "code",
   "execution_count": 16,
   "id": "69acdd22",
   "metadata": {},
   "outputs": [],
   "source": [
    "# Define the regular expression pattern for the brands\n",
    "pattern = r'(LG|Samsung|Sony|TCL|Hisense|Panasonic|Sharp|Philips|Haier|Toshiba|MI|Redmi|VW|iFFALCON|Acer|OnePlus|Vu|Xiaomi|Blaupunkt|Kodak|Croma|Westinghouse|Onida|Dyanora|Sansui)'\n",
    "\n",
    "# Extract the brand from the 'Product Name' column and assign it to the 'Brand' column\n",
    "df['Brand'] = df['Product Name'].str.extract(pattern, flags=re.IGNORECASE, expand=False)\n",
    "\n",
    "# Convert the 'Brand' column to uppercase\n",
    "df['Brand'] = df['Brand'].str.upper()"
   ]
  },
  {
   "cell_type": "code",
   "execution_count": 17,
   "id": "d74c4027-3946-46d1-a85b-b5f50c8330f0",
   "metadata": {},
   "outputs": [],
   "source": [
    "# Convert the column to string type\n",
    "df['Product Name'] = df['Product Name'].astype(str)\n",
    "\n",
    "# Define the regular expression pattern for the size\n",
    "pattern = r\"(\\d+)\\s*(inch|inches|Inch)\"\n",
    "matches = df['Product Name'].apply(lambda x: re.findall(pattern, x))\n",
    "\n",
    "# Extract the matches and assign to the 'Size' column\n",
    "df['Size'] = [', '.join(match[0]) if match else None for match in matches]\n",
    "df['Size'] = df['Size'].replace(', inch|, Inch', '', regex=True)\n",
    "df.drop(df[df['Size'].isnull()].index, inplace=True)\n",
    " \n",
    "# Sorting by column 'Size'\n",
    "df.sort_values(by=['Size'], inplace=True)\n"
   ]
  },
  {
   "cell_type": "code",
   "execution_count": 18,
   "id": "9ab0cd01-d7b1-4823-874a-af25f1440b1a",
   "metadata": {},
   "outputs": [
    {
     "name": "stderr",
     "output_type": "stream",
     "text": [
      "C:\\Users\\vasu_seelamneni\\AppData\\Local\\Temp\\ipykernel_30140\\203849084.py:9: FutureWarning: A value is trying to be set on a copy of a DataFrame or Series through chained assignment using an inplace method.\n",
      "The behavior will change in pandas 3.0. This inplace method will never work because the intermediate object on which we are setting values always behaves as a copy.\n",
      "\n",
      "For example, when doing 'df[col].method(value, inplace=True)', try using 'df.method({col: value}, inplace=True)' or df[col] = df[col].method(value) instead, to perform the operation inplace on the original object.\n",
      "\n",
      "\n",
      "  df['Display'].fillna('LED', inplace=True)\n"
     ]
    }
   ],
   "source": [
    "# Define the regular expression pattern for the display\n",
    "pattern = r'(LED|QLED|OLED)'\n",
    "\n",
    "# Extract the display from the 'Product Name' column and assign it to the 'Display' column\n",
    "df['Display'] = df['Product Name'].str.extract(pattern, flags=re.IGNORECASE, expand=False)\n",
    "\n",
    "# Convert the 'Display' column to uppercase\n",
    "df['Display'] = df['Display'].str.upper()\n",
    "df['Display'].fillna('LED', inplace=True)"
   ]
  },
  {
   "cell_type": "code",
   "execution_count": 19,
   "id": "b67a7832",
   "metadata": {},
   "outputs": [],
   "source": [
    "df.to_csv('..\\\\..\\\\miniproject\\\\data\\\\amazon_television_data.csv', index=False)"
   ]
  }
 ],
 "metadata": {
  "kernelspec": {
   "display_name": "Python 3 (ipykernel)",
   "language": "python",
   "name": "python3"
  },
  "language_info": {
   "codemirror_mode": {
    "name": "ipython",
    "version": 3
   },
   "file_extension": ".py",
   "mimetype": "text/x-python",
   "name": "python",
   "nbconvert_exporter": "python",
   "pygments_lexer": "ipython3",
   "version": "3.10.5"
  }
 },
 "nbformat": 4,
 "nbformat_minor": 5
}
